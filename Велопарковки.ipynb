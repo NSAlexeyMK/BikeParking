{
  "nbformat": 4,
  "nbformat_minor": 0,
  "metadata": {
    "colab": {
      "provenance": []
    },
    "kernelspec": {
      "name": "python3",
      "display_name": "Python 3"
    },
    "language_info": {
      "name": "python"
    }
  },
  "cells": [
    {
      "cell_type": "code",
      "source": [
        "from geopy import distance"
      ],
      "metadata": {
        "id": "QU-RQJF_CXQD"
      },
      "execution_count": null,
      "outputs": []
    },
    {
      "cell_type": "code",
      "execution_count": null,
      "metadata": {
        "colab": {
          "base_uri": "https://localhost:8080/"
        },
        "id": "wRiEBoU7u4ac",
        "outputId": "8bcaa99e-2e92-48e8-f974-e88a7e60f912"
      },
      "outputs": [
        {
          "output_type": "stream",
          "name": "stdout",
          "text": [
            "37.603358\n",
            "55.861605\n",
            "Велосипедная парковка № 37061 «Школа № 950»\n",
            "Северо-Восточный административный округ\n",
            "район Отрадное\n",
            "Отрадная улица, дом 1А\n"
          ]
        }
      ],
      "source": [
        "with open(\"/content/долгота.txt\") as ins:\n",
        "    d = []\n",
        "    for line in ins:\n",
        "        d.append(float(line.strip()))\n",
        "dol = d\n",
        "\n",
        "with open(\"/content/ширина.txt\") as ins:\n",
        "    c = []\n",
        "    for line in ins:\n",
        "        c.append(float(line.strip()))\n",
        "shir = c\n",
        "\n",
        "with open(\"/content/наименование.txt\", 'r', encoding='utf-8') as ins:\n",
        "    c = []\n",
        "    for line in ins:\n",
        "        c.append(str(line.strip()))\n",
        "naim = c\n",
        "\n",
        "with open(\"/content/округ.txt\", 'r', encoding='utf-8') as ins:\n",
        "    c = []\n",
        "    for line in ins:\n",
        "        c.append(str(line.strip()))\n",
        "okrug = c\n",
        "\n",
        "with open(\"/content/район.txt\", 'r', encoding='utf-8') as ins:\n",
        "    c = []\n",
        "    for line in ins:\n",
        "        c.append(str(line.strip()))\n",
        "raion = c\n",
        "\n",
        "with open(\"/content/адрес.txt\", 'r', encoding='utf-8') as ins:\n",
        "    c = []\n",
        "    for line in ins:\n",
        "        c.append(str(line.strip()))\n",
        "adres = c\n",
        "\n",
        "d = float(input())\n",
        "s = float(input())\n",
        "\n",
        "minras = 1000000000000000000000000000000000000\n",
        "num = 0\n",
        "for i in range(971):\n",
        "    ras = ((shir[i]-s)**2 + (dol[i]-d)**2) ** 0.5\n",
        "\n",
        "    if ras < minras:\n",
        "        minras = ras\n",
        "        num = i\n",
        "\n",
        "print(naim[num], okrug[num], raion[num], adres[num], sep='\\n')"
      ]
    },
    {
      "cell_type": "code",
      "source": [
        "def inpudol():\n",
        "    with open(\"\") as ins:\n",
        "        d = []\n",
        "        for line in ins:\n",
        "            d.append(float(line.strip()))\n",
        "    dol = d\n",
        "    return dol\n",
        "\n",
        "def inpushir():\n",
        "    with open(\"\") as ins:\n",
        "        c = []\n",
        "        for line in ins:\n",
        "            c.append(float(line.strip()))\n",
        "    shir = c\n",
        "    return shir\n",
        "\n",
        "def inpunaim():\n",
        "    with open('') as ins:\n",
        "        c = []\n",
        "        for line in ins:\n",
        "            c.append(str(line.strip()))\n",
        "    naim = c\n",
        "    return naim\n",
        "\n",
        "def inpuokrug():\n",
        "    with open(\"\", 'r', encoding='utf-8') as ins:\n",
        "        c = []\n",
        "        for line in ins:\n",
        "            c.append(str(line.strip()))\n",
        "    okrug = c\n",
        "    return okrug\n",
        "\n",
        "def inpuraion():\n",
        "    with open(\"\", 'r', encoding='utf-8') as ins:\n",
        "        c = []\n",
        "        for line in ins:\n",
        "            c.append(str(line.strip()))\n",
        "    raion = c\n",
        "    return raion\n",
        "\n",
        "def inpuadres():\n",
        "    with open(\"\", 'r', encoding='utf-8') as ins:\n",
        "        c = []\n",
        "        for line in ins:\n",
        "            c.append(str(line.strip()))\n",
        "    adres = c\n",
        "\n",
        "    return adres\n",
        "\n",
        "def find_near(d, s):\n",
        "    minras = 1000000000000000000000000000000000000\n",
        "    num = 0\n",
        "    for i in range(971):\n",
        "        ras = ((shir[i] - s) ** 2 + (dol[i] - d) ** 2) ** 0.5\n",
        "\n",
        "        if ras < minras:\n",
        "            minras = ras\n",
        "            num = i\n",
        "    print(naim[num], okrug[num], raion[num], adres[num], sep='\\n')\n",
        "    return [naim[num], okrug[num], raion[num], adres[num]]\n",
        "\n",
        "dol = inpudol()\n",
        "shir = inpushir()\n",
        "naim = inpunaim()\n",
        "okrug = inpuokrug()\n",
        "raion = inpuraion()\n",
        "adres = inpuadres()\n",
        "\n",
        "find_near(37.603358,55.861605)\n"
      ],
      "metadata": {
        "id": "_2jl7Uz18c4l"
      },
      "execution_count": null,
      "outputs": []
    },
    {
      "cell_type": "code",
      "source": [
        "def rastoyan(p1,p2):\n",
        "  return distance.distance(p1, p2).km\n"
      ],
      "metadata": {
        "id": "cwncjvQa_msZ"
      },
      "execution_count": null,
      "outputs": []
    }
  ]
}